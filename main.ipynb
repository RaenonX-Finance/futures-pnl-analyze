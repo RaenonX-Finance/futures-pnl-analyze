{
 "cells": [
  {
   "cell_type": "code",
   "execution_count": 54,
   "outputs": [],
   "source": [
    "def get_pnl_series(df):\n",
    "    gross_pnl = []\n",
    "    net_pnl = []\n",
    "    current_position = 0\n",
    "    current_contracts = []\n",
    "\n",
    "    rows = (\n",
    "        df[\"Buy\"].astype(int).tolist(),\n",
    "        df[\"Sell\"].astype(int).tolist(),\n",
    "        df[\"Trade Price\"].tolist(),\n",
    "        df[\"Fees\"].tolist()\n",
    "    )\n",
    "\n",
    "    for buy_qty, sell_qty, px, fee in zip(*rows):\n",
    "        gross_pnl_single = fee\n",
    "        net_pnl_single = 0\n",
    "\n",
    "        if buy_qty:\n",
    "\n",
    "            if current_position > 0:\n",
    "                # Increase pos\n",
    "                current_contracts.extend([px] * buy_qty)\n",
    "\n",
    "            elif current_position < 0:\n",
    "                # Decrease pos / Reverse pos\n",
    "                is_reverse = buy_qty > abs(current_position)\n",
    "\n",
    "                closed_qty = abs(current_position if is_reverse else buy_qty)\n",
    "                closed_contracts = [current_contracts.pop(0) for _ in range(closed_qty)]\n",
    "                closed_avg_px = sum(closed_contracts) / len(closed_contracts)\n",
    "                net_pnl_single += (closed_avg_px - px) * 2\n",
    "\n",
    "                if is_reverse:\n",
    "                    current_contracts = [px] * (buy_qty + current_position)\n",
    "\n",
    "            else:\n",
    "                # Open pos\n",
    "                current_contracts = [px] * buy_qty\n",
    "\n",
    "            current_position += buy_qty\n",
    "\n",
    "        elif sell_qty:\n",
    "\n",
    "            if current_position < 0:\n",
    "                # Increase pos\n",
    "                current_contracts.extend([px] * sell_qty)\n",
    "\n",
    "            elif current_position > 0:\n",
    "                # Decrease pos / Reverse pos\n",
    "                is_reverse = sell_qty > abs(current_position)\n",
    "\n",
    "                closed_qty = abs(current_position if is_reverse else sell_qty)\n",
    "                closed_contracts = [current_contracts.pop(0) for _ in range(closed_qty)]\n",
    "                closed_avg_px = sum(closed_contracts) / len(closed_contracts)\n",
    "                net_pnl_single += (px - closed_avg_px) * 2\n",
    "\n",
    "                if is_reverse:\n",
    "                    current_contracts = [px] * (sell_qty + current_position)\n",
    "\n",
    "            else:\n",
    "                # Open pos\n",
    "                current_contracts = [px] * sell_qty\n",
    "\n",
    "            current_position -= sell_qty\n",
    "\n",
    "        gross_pnl.append(net_pnl_single + gross_pnl_single)\n",
    "        net_pnl.append(net_pnl_single)\n",
    "\n",
    "    return gross_pnl, net_pnl"
   ],
   "metadata": {
    "collapsed": false,
    "pycharm": {
     "name": "#%%\n"
    }
   }
  },
  {
   "cell_type": "code",
   "execution_count": 55,
   "outputs": [
    {
     "data": {
      "text/plain": "            Date Master Account   Account Account Type  \\\n0     05/16/2022                 210YY497           F1   \n1     05/16/2022                 210YY497           F1   \n2     05/16/2022                 210YY497           F1   \n3     05/16/2022                 210YY497           F1   \n4     05/17/2022       210YJHSI  210YY497           F1   \n...          ...            ...       ...          ...   \n2247  07/22/2022       210YJHSI  210YY497           F1   \n2248  07/22/2022       210YJHSI  210YY497           F1   \n2249  07/22/2022       210YJHSI  210YY497           F1   \n2250  07/22/2022       210YJHSI  210YY497           F1   \n2251  07/22/2022       210YJHSI  210YY497           F1   \n\n                Contract Description Exchange Futures Code Security Type  \\\n0     JUN 22 CME MCRO NSDQ                CME           MQ       Futures   \n1     JUN 22 CME MCRO NSDQ                CME           MQ       Futures   \n2     JUN 22 CME MCRO NSDQ                CME           MQ       Futures   \n3     JUN 22 CME MCRO NSDQ                CME           MQ       Futures   \n4     JUN 22 CME MCRO NSDQ                CME           MQ       Futures   \n...                              ...      ...          ...           ...   \n2247  SEP 22 CME MCRO NSDQ                CME           MQ       Futures   \n2248  SEP 22 CME MCRO NSDQ                CME           MQ       Futures   \n2249  SEP 22 CME MCRO NSDQ                CME           MQ       Futures   \n2250  SEP 22 CME MCRO NSDQ                CME           MQ       Futures   \n2251  SEP 22 CME MCRO NSDQ                CME           MQ       Futures   \n\n       Buy  Sell  ...  Posted Floor Fee  Floor Fee Currency Posted NFA Fee  \\\n0      1.0   0.0  ...               0.0                 USD          -0.02   \n1      1.0   0.0  ...               0.0                 USD          -0.02   \n2      0.0   1.0  ...               0.0                 USD          -0.02   \n3      0.0   1.0  ...               0.0                 USD          -0.02   \n4      0.0   1.0  ...               0.0                 USD          -0.02   \n...    ...   ...  ...               ...                 ...            ...   \n2247   1.0   0.0  ...               0.0                 USD          -0.02   \n2248   1.0   0.0  ...               0.0                 USD          -0.02   \n2249   1.0   0.0  ...               0.0                 USD          -0.02   \n2250  11.0   0.0  ...               0.0                 USD          -0.22   \n2251   0.0   1.0  ...               0.0                 USD          -0.02   \n\n      NFA Fee Currency Unnamed: 21  Positions  Fees  Gross PnL Net PnL  Traded  \n0                  USD         NaN        1.0 -0.82      -0.82     0.0     0.0  \n1                  USD         NaN        2.0 -0.82      -0.82     0.0     0.0  \n2                  USD         NaN        1.0 -0.82     -52.82   -52.0     1.0  \n3                  USD         NaN        0.0 -0.82    -114.82  -114.0     1.0  \n4                  USD         NaN       -1.0 -0.82      -0.82     0.0     0.0  \n...                ...         ...        ...   ...        ...     ...     ...  \n2247               USD         NaN      -13.0 -0.57     527.43   528.0     1.0  \n2248               USD         NaN      -12.0 -0.57     524.93   525.5     1.0  \n2249               USD         NaN      -11.0 -0.57     521.93   522.5     1.0  \n2250               USD         NaN        0.0 -6.27     535.73   542.0    11.0  \n2251               USD         NaN       -1.0 -0.57      -0.57     0.0     0.0  \n\n[2243 rows x 27 columns]",
      "text/html": "<div>\n<style scoped>\n    .dataframe tbody tr th:only-of-type {\n        vertical-align: middle;\n    }\n\n    .dataframe tbody tr th {\n        vertical-align: top;\n    }\n\n    .dataframe thead th {\n        text-align: right;\n    }\n</style>\n<table border=\"1\" class=\"dataframe\">\n  <thead>\n    <tr style=\"text-align: right;\">\n      <th></th>\n      <th>Date</th>\n      <th>Master Account</th>\n      <th>Account</th>\n      <th>Account Type</th>\n      <th>Contract Description</th>\n      <th>Exchange</th>\n      <th>Futures Code</th>\n      <th>Security Type</th>\n      <th>Buy</th>\n      <th>Sell</th>\n      <th>...</th>\n      <th>Posted Floor Fee</th>\n      <th>Floor Fee Currency</th>\n      <th>Posted NFA Fee</th>\n      <th>NFA Fee Currency</th>\n      <th>Unnamed: 21</th>\n      <th>Positions</th>\n      <th>Fees</th>\n      <th>Gross PnL</th>\n      <th>Net PnL</th>\n      <th>Traded</th>\n    </tr>\n  </thead>\n  <tbody>\n    <tr>\n      <th>0</th>\n      <td>05/16/2022</td>\n      <td></td>\n      <td>210YY497</td>\n      <td>F1</td>\n      <td>JUN 22 CME MCRO NSDQ</td>\n      <td>CME</td>\n      <td>MQ</td>\n      <td>Futures</td>\n      <td>1.0</td>\n      <td>0.0</td>\n      <td>...</td>\n      <td>0.0</td>\n      <td>USD</td>\n      <td>-0.02</td>\n      <td>USD</td>\n      <td>NaN</td>\n      <td>1.0</td>\n      <td>-0.82</td>\n      <td>-0.82</td>\n      <td>0.0</td>\n      <td>0.0</td>\n    </tr>\n    <tr>\n      <th>1</th>\n      <td>05/16/2022</td>\n      <td></td>\n      <td>210YY497</td>\n      <td>F1</td>\n      <td>JUN 22 CME MCRO NSDQ</td>\n      <td>CME</td>\n      <td>MQ</td>\n      <td>Futures</td>\n      <td>1.0</td>\n      <td>0.0</td>\n      <td>...</td>\n      <td>0.0</td>\n      <td>USD</td>\n      <td>-0.02</td>\n      <td>USD</td>\n      <td>NaN</td>\n      <td>2.0</td>\n      <td>-0.82</td>\n      <td>-0.82</td>\n      <td>0.0</td>\n      <td>0.0</td>\n    </tr>\n    <tr>\n      <th>2</th>\n      <td>05/16/2022</td>\n      <td></td>\n      <td>210YY497</td>\n      <td>F1</td>\n      <td>JUN 22 CME MCRO NSDQ</td>\n      <td>CME</td>\n      <td>MQ</td>\n      <td>Futures</td>\n      <td>0.0</td>\n      <td>1.0</td>\n      <td>...</td>\n      <td>0.0</td>\n      <td>USD</td>\n      <td>-0.02</td>\n      <td>USD</td>\n      <td>NaN</td>\n      <td>1.0</td>\n      <td>-0.82</td>\n      <td>-52.82</td>\n      <td>-52.0</td>\n      <td>1.0</td>\n    </tr>\n    <tr>\n      <th>3</th>\n      <td>05/16/2022</td>\n      <td></td>\n      <td>210YY497</td>\n      <td>F1</td>\n      <td>JUN 22 CME MCRO NSDQ</td>\n      <td>CME</td>\n      <td>MQ</td>\n      <td>Futures</td>\n      <td>0.0</td>\n      <td>1.0</td>\n      <td>...</td>\n      <td>0.0</td>\n      <td>USD</td>\n      <td>-0.02</td>\n      <td>USD</td>\n      <td>NaN</td>\n      <td>0.0</td>\n      <td>-0.82</td>\n      <td>-114.82</td>\n      <td>-114.0</td>\n      <td>1.0</td>\n    </tr>\n    <tr>\n      <th>4</th>\n      <td>05/17/2022</td>\n      <td>210YJHSI</td>\n      <td>210YY497</td>\n      <td>F1</td>\n      <td>JUN 22 CME MCRO NSDQ</td>\n      <td>CME</td>\n      <td>MQ</td>\n      <td>Futures</td>\n      <td>0.0</td>\n      <td>1.0</td>\n      <td>...</td>\n      <td>0.0</td>\n      <td>USD</td>\n      <td>-0.02</td>\n      <td>USD</td>\n      <td>NaN</td>\n      <td>-1.0</td>\n      <td>-0.82</td>\n      <td>-0.82</td>\n      <td>0.0</td>\n      <td>0.0</td>\n    </tr>\n    <tr>\n      <th>...</th>\n      <td>...</td>\n      <td>...</td>\n      <td>...</td>\n      <td>...</td>\n      <td>...</td>\n      <td>...</td>\n      <td>...</td>\n      <td>...</td>\n      <td>...</td>\n      <td>...</td>\n      <td>...</td>\n      <td>...</td>\n      <td>...</td>\n      <td>...</td>\n      <td>...</td>\n      <td>...</td>\n      <td>...</td>\n      <td>...</td>\n      <td>...</td>\n      <td>...</td>\n      <td>...</td>\n    </tr>\n    <tr>\n      <th>2247</th>\n      <td>07/22/2022</td>\n      <td>210YJHSI</td>\n      <td>210YY497</td>\n      <td>F1</td>\n      <td>SEP 22 CME MCRO NSDQ</td>\n      <td>CME</td>\n      <td>MQ</td>\n      <td>Futures</td>\n      <td>1.0</td>\n      <td>0.0</td>\n      <td>...</td>\n      <td>0.0</td>\n      <td>USD</td>\n      <td>-0.02</td>\n      <td>USD</td>\n      <td>NaN</td>\n      <td>-13.0</td>\n      <td>-0.57</td>\n      <td>527.43</td>\n      <td>528.0</td>\n      <td>1.0</td>\n    </tr>\n    <tr>\n      <th>2248</th>\n      <td>07/22/2022</td>\n      <td>210YJHSI</td>\n      <td>210YY497</td>\n      <td>F1</td>\n      <td>SEP 22 CME MCRO NSDQ</td>\n      <td>CME</td>\n      <td>MQ</td>\n      <td>Futures</td>\n      <td>1.0</td>\n      <td>0.0</td>\n      <td>...</td>\n      <td>0.0</td>\n      <td>USD</td>\n      <td>-0.02</td>\n      <td>USD</td>\n      <td>NaN</td>\n      <td>-12.0</td>\n      <td>-0.57</td>\n      <td>524.93</td>\n      <td>525.5</td>\n      <td>1.0</td>\n    </tr>\n    <tr>\n      <th>2249</th>\n      <td>07/22/2022</td>\n      <td>210YJHSI</td>\n      <td>210YY497</td>\n      <td>F1</td>\n      <td>SEP 22 CME MCRO NSDQ</td>\n      <td>CME</td>\n      <td>MQ</td>\n      <td>Futures</td>\n      <td>1.0</td>\n      <td>0.0</td>\n      <td>...</td>\n      <td>0.0</td>\n      <td>USD</td>\n      <td>-0.02</td>\n      <td>USD</td>\n      <td>NaN</td>\n      <td>-11.0</td>\n      <td>-0.57</td>\n      <td>521.93</td>\n      <td>522.5</td>\n      <td>1.0</td>\n    </tr>\n    <tr>\n      <th>2250</th>\n      <td>07/22/2022</td>\n      <td>210YJHSI</td>\n      <td>210YY497</td>\n      <td>F1</td>\n      <td>SEP 22 CME MCRO NSDQ</td>\n      <td>CME</td>\n      <td>MQ</td>\n      <td>Futures</td>\n      <td>11.0</td>\n      <td>0.0</td>\n      <td>...</td>\n      <td>0.0</td>\n      <td>USD</td>\n      <td>-0.22</td>\n      <td>USD</td>\n      <td>NaN</td>\n      <td>0.0</td>\n      <td>-6.27</td>\n      <td>535.73</td>\n      <td>542.0</td>\n      <td>11.0</td>\n    </tr>\n    <tr>\n      <th>2251</th>\n      <td>07/22/2022</td>\n      <td>210YJHSI</td>\n      <td>210YY497</td>\n      <td>F1</td>\n      <td>SEP 22 CME MCRO NSDQ</td>\n      <td>CME</td>\n      <td>MQ</td>\n      <td>Futures</td>\n      <td>0.0</td>\n      <td>1.0</td>\n      <td>...</td>\n      <td>0.0</td>\n      <td>USD</td>\n      <td>-0.02</td>\n      <td>USD</td>\n      <td>NaN</td>\n      <td>-1.0</td>\n      <td>-0.57</td>\n      <td>-0.57</td>\n      <td>0.0</td>\n      <td>0.0</td>\n    </tr>\n  </tbody>\n</table>\n<p>2243 rows × 27 columns</p>\n</div>"
     },
     "execution_count": 55,
     "metadata": {},
     "output_type": "execute_result"
    }
   ],
   "source": [
    "import numpy as np\n",
    "import pandas as pd\n",
    "\n",
    "df = pd.read_csv(r\"D:\\UserData\\Downloads\\tradeblotter_210YY497_2022-05-01_to_2022-07-25.csv\", skiprows=2)\n",
    "df = df[df[\"Futures Code\"] == \"MQ\"]\n",
    "df[\"Positions\"] = df[\"Buy\"].cumsum() - df[\"Sell\"].cumsum()\n",
    "df[\"Fees\"] = df[\"Posted Commission\"] + df[\"Posted Clearing Fee\"] + df[\"Posted NFA Fee\"]\n",
    "gross_pnl, net_pnl = get_pnl_series(df)\n",
    "df[\"Gross PnL\"] = gross_pnl\n",
    "df[\"Net PnL\"] = net_pnl\n",
    "df[\"Traded\"] = np.where(df[\"Net PnL\"] != 0, df[\"Buy\"] + df[\"Sell\"], 0)\n",
    "df"
   ],
   "metadata": {
    "collapsed": false,
    "pycharm": {
     "name": "#%%\n"
    }
   }
  },
  {
   "cell_type": "code",
   "execution_count": 56,
   "outputs": [
    {
     "data": {
      "text/plain": "            Date   Buy  Sell  Trade Price  Positions  Gross PnL  Net PnL  \\\n0     05/16/2022   1.0   0.0     12336.25        1.0      -0.82      0.0   \n1     05/16/2022   1.0   0.0     12315.00        2.0      -0.82      0.0   \n2     05/16/2022   0.0   1.0     12310.25        1.0     -52.82    -52.0   \n3     05/16/2022   0.0   1.0     12258.00        0.0    -114.82   -114.0   \n4     05/17/2022   0.0   1.0     12558.50       -1.0      -0.82      0.0   \n...          ...   ...   ...          ...        ...        ...      ...   \n2247  07/22/2022   1.0   0.0     12355.50      -13.0     527.43    528.0   \n2248  07/22/2022   1.0   0.0     12357.00      -12.0     524.93    525.5   \n2249  07/22/2022   1.0   0.0     12358.50      -11.0     521.93    522.5   \n2250  07/22/2022  11.0   0.0     12424.00        0.0     535.73    542.0   \n2251  07/22/2022   0.0   1.0     12426.50       -1.0      -0.57      0.0   \n\n      Traded  \n0        0.0  \n1        0.0  \n2        1.0  \n3        1.0  \n4        0.0  \n...      ...  \n2247     1.0  \n2248     1.0  \n2249     1.0  \n2250    11.0  \n2251     0.0  \n\n[2243 rows x 8 columns]",
      "text/html": "<div>\n<style scoped>\n    .dataframe tbody tr th:only-of-type {\n        vertical-align: middle;\n    }\n\n    .dataframe tbody tr th {\n        vertical-align: top;\n    }\n\n    .dataframe thead th {\n        text-align: right;\n    }\n</style>\n<table border=\"1\" class=\"dataframe\">\n  <thead>\n    <tr style=\"text-align: right;\">\n      <th></th>\n      <th>Date</th>\n      <th>Buy</th>\n      <th>Sell</th>\n      <th>Trade Price</th>\n      <th>Positions</th>\n      <th>Gross PnL</th>\n      <th>Net PnL</th>\n      <th>Traded</th>\n    </tr>\n  </thead>\n  <tbody>\n    <tr>\n      <th>0</th>\n      <td>05/16/2022</td>\n      <td>1.0</td>\n      <td>0.0</td>\n      <td>12336.25</td>\n      <td>1.0</td>\n      <td>-0.82</td>\n      <td>0.0</td>\n      <td>0.0</td>\n    </tr>\n    <tr>\n      <th>1</th>\n      <td>05/16/2022</td>\n      <td>1.0</td>\n      <td>0.0</td>\n      <td>12315.00</td>\n      <td>2.0</td>\n      <td>-0.82</td>\n      <td>0.0</td>\n      <td>0.0</td>\n    </tr>\n    <tr>\n      <th>2</th>\n      <td>05/16/2022</td>\n      <td>0.0</td>\n      <td>1.0</td>\n      <td>12310.25</td>\n      <td>1.0</td>\n      <td>-52.82</td>\n      <td>-52.0</td>\n      <td>1.0</td>\n    </tr>\n    <tr>\n      <th>3</th>\n      <td>05/16/2022</td>\n      <td>0.0</td>\n      <td>1.0</td>\n      <td>12258.00</td>\n      <td>0.0</td>\n      <td>-114.82</td>\n      <td>-114.0</td>\n      <td>1.0</td>\n    </tr>\n    <tr>\n      <th>4</th>\n      <td>05/17/2022</td>\n      <td>0.0</td>\n      <td>1.0</td>\n      <td>12558.50</td>\n      <td>-1.0</td>\n      <td>-0.82</td>\n      <td>0.0</td>\n      <td>0.0</td>\n    </tr>\n    <tr>\n      <th>...</th>\n      <td>...</td>\n      <td>...</td>\n      <td>...</td>\n      <td>...</td>\n      <td>...</td>\n      <td>...</td>\n      <td>...</td>\n      <td>...</td>\n    </tr>\n    <tr>\n      <th>2247</th>\n      <td>07/22/2022</td>\n      <td>1.0</td>\n      <td>0.0</td>\n      <td>12355.50</td>\n      <td>-13.0</td>\n      <td>527.43</td>\n      <td>528.0</td>\n      <td>1.0</td>\n    </tr>\n    <tr>\n      <th>2248</th>\n      <td>07/22/2022</td>\n      <td>1.0</td>\n      <td>0.0</td>\n      <td>12357.00</td>\n      <td>-12.0</td>\n      <td>524.93</td>\n      <td>525.5</td>\n      <td>1.0</td>\n    </tr>\n    <tr>\n      <th>2249</th>\n      <td>07/22/2022</td>\n      <td>1.0</td>\n      <td>0.0</td>\n      <td>12358.50</td>\n      <td>-11.0</td>\n      <td>521.93</td>\n      <td>522.5</td>\n      <td>1.0</td>\n    </tr>\n    <tr>\n      <th>2250</th>\n      <td>07/22/2022</td>\n      <td>11.0</td>\n      <td>0.0</td>\n      <td>12424.00</td>\n      <td>0.0</td>\n      <td>535.73</td>\n      <td>542.0</td>\n      <td>11.0</td>\n    </tr>\n    <tr>\n      <th>2251</th>\n      <td>07/22/2022</td>\n      <td>0.0</td>\n      <td>1.0</td>\n      <td>12426.50</td>\n      <td>-1.0</td>\n      <td>-0.57</td>\n      <td>0.0</td>\n      <td>0.0</td>\n    </tr>\n  </tbody>\n</table>\n<p>2243 rows × 8 columns</p>\n</div>"
     },
     "execution_count": 56,
     "metadata": {},
     "output_type": "execute_result"
    }
   ],
   "source": [
    "df[[\"Date\", \"Buy\", \"Sell\", \"Trade Price\", \"Positions\", \"Gross PnL\", \"Net PnL\", \"Traded\"]]"
   ],
   "metadata": {
    "collapsed": false,
    "pycharm": {
     "name": "#%%\n"
    }
   }
  },
  {
   "cell_type": "code",
   "execution_count": 56,
   "outputs": [],
   "source": [],
   "metadata": {
    "collapsed": false,
    "pycharm": {
     "name": "#%%\n"
    }
   }
  }
 ],
 "metadata": {
  "kernelspec": {
   "name": "rx-trade-ib",
   "language": "python",
   "display_name": "rx-trade-ib"
  },
  "language_info": {
   "codemirror_mode": {
    "name": "ipython",
    "version": 2
   },
   "file_extension": ".py",
   "mimetype": "text/x-python",
   "name": "python",
   "nbconvert_exporter": "python",
   "pygments_lexer": "ipython2",
   "version": "2.7.6"
  }
 },
 "nbformat": 4,
 "nbformat_minor": 0
}